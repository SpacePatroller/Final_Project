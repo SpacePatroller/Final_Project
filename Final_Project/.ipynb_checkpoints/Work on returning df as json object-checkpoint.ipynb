{
 "cells": [
  {
   "cell_type": "code",
   "execution_count": 38,
   "metadata": {},
   "outputs": [],
   "source": [
    "import sys\n",
    "import os\n",
    "import glob\n",
    "import re\n",
    "import pandas as pd\n",
    "import numpy as np\n",
    "\n",
    "import keras\n",
    "from keras.preprocessing import image\n",
    "from keras.preprocessing.image import img_to_array\n",
    "from keras.applications.xception import (\n",
    "    Xception, preprocess_input, decode_predictions)\n",
    "from keras import backend as K"
   ]
  },
  {
   "cell_type": "code",
   "execution_count": 39,
   "metadata": {},
   "outputs": [],
   "source": [
    " model = keras.models.load_model(\"models/skin_model_1.h5\")"
   ]
  },
  {
   "cell_type": "code",
   "execution_count": 40,
   "metadata": {},
   "outputs": [],
   "source": [
    "model = keras.models.load_model(\"models/skin_model_1.h5\")"
   ]
  },
  {
   "cell_type": "code",
   "execution_count": 41,
   "metadata": {},
   "outputs": [],
   "source": [
    "def prepare_image(img):\n",
    "    img = img_to_array(img)\n",
    "    img = np.expand_dims(img, axis=0)\n",
    "    img = preprocess_input(img)\n",
    "    # return the processed image\n",
    "    return img"
   ]
  },
  {
   "cell_type": "code",
   "execution_count": 42,
   "metadata": {},
   "outputs": [],
   "source": [
    "filepath = os.path.join(\"uploads/king-of-the-hill-wallpaper.jpg\")\n",
    "\n",
    "\n",
    "image_size = (75, 100)\n",
    "im = keras.preprocessing.image.load_img(filepath,\n",
    "                                                    target_size=image_size,\n",
    "                                                    grayscale=False)\n",
    "\n",
    "# preprocess the image and prepare it for classification\n",
    "image = prepare_image(im)\n"
   ]
  },
  {
   "cell_type": "code",
   "execution_count": 60,
   "metadata": {},
   "outputs": [
    {
     "name": "stdout",
     "output_type": "stream",
     "text": [
      "Actinic keratoses 67.315%\n",
      "Melanoma 32.685%\n",
      "Melanocytic nevi 0.0%\n"
     ]
    }
   ],
   "source": [
    "labels = ['Melanocytic nevi','Melanoma','Benign keratosis-like lesions', 'Basal cell carcinoma',\n",
    "    'Actinic keratoses','Vascular lesions','Dermatofibroma']\n",
    "\n",
    "\n",
    "preds = model.predict(image)\n",
    "# results = decode_predictions(preds)\n",
    "\n",
    "\n",
    "\n",
    "result_df = pd.DataFrame(columns=['Label',\"Prediction\"])\n",
    "\n",
    "for x, y in zip(preds[0], labels):\n",
    "\n",
    "            updated_preds = list(\n",
    "                map(lambda x: str(round(x*100, 3)) + \"%\", preds[0]))\n",
    "\n",
    "            dictionary = dict(zip(labels, updated_preds))\n",
    "\n",
    "            # create a function which returns the value of a dictionary\n",
    "\n",
    "            def keyfunction(k):\n",
    "                return dictionary[k]\n",
    "\n",
    "            diagnosis = []\n",
    "            \n",
    "for key in sorted(dictionary, key=keyfunction, reverse=True)[:3]:\n",
    "                    print(key, dictionary[key])\n",
    "\n",
    "                #     print (key, dictionary[key])\n",
    "                    diagnosis.append([key,dictionary[key]])\n",
    "#                     top_pred.append(dictionary[key])\n",
    "\n",
    "#                     global new_dict\n",
    "#                     new_dict = list(zip(top_label, top_pred))\n"
   ]
  },
  {
   "cell_type": "code",
   "execution_count": 62,
   "metadata": {},
   "outputs": [
    {
     "data": {
      "text/plain": [
       "[['Actinic keratoses', '67.315%'],\n",
       " ['Melanoma', '32.685%'],\n",
       " ['Melanocytic nevi', '0.0%']]"
      ]
     },
     "execution_count": 62,
     "metadata": {},
     "output_type": "execute_result"
    }
   ],
   "source": []
  },
  {
   "cell_type": "code",
   "execution_count": 52,
   "metadata": {},
   "outputs": [],
   "source": [
    "dictList = []\n",
    "\n",
    "for key, value in new_dict.items():\n",
    "    dictList.append([key, value])\n"
   ]
  },
  {
   "cell_type": "code",
   "execution_count": 53,
   "metadata": {},
   "outputs": [
    {
     "data": {
      "text/plain": [
       "[['Actinic keratoses', '67.315%'],\n",
       " ['Melanoma', '32.685%'],\n",
       " ['Melanocytic nevi', '0.0%']]"
      ]
     },
     "execution_count": 53,
     "metadata": {},
     "output_type": "execute_result"
    }
   ],
   "source": [
    "dictList"
   ]
  },
  {
   "cell_type": "code",
   "execution_count": null,
   "metadata": {},
   "outputs": [],
   "source": []
  }
 ],
 "metadata": {
  "kernelspec": {
   "display_name": "Python 3",
   "language": "python",
   "name": "python3"
  },
  "language_info": {
   "codemirror_mode": {
    "name": "ipython",
    "version": 3
   },
   "file_extension": ".py",
   "mimetype": "text/x-python",
   "name": "python",
   "nbconvert_exporter": "python",
   "pygments_lexer": "ipython3",
   "version": "3.6.8"
  }
 },
 "nbformat": 4,
 "nbformat_minor": 2
}
