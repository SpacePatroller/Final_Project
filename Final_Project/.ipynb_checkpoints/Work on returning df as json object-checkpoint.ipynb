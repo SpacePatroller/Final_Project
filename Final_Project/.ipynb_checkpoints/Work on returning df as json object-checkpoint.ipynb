{
 "cells": [
  {
   "cell_type": "code",
   "execution_count": 90,
   "metadata": {},
   "outputs": [],
   "source": [
    "import sys\n",
    "import os\n",
    "import glob\n",
    "import re\n",
    "import pandas as pd\n",
    "import numpy as np\n",
    "\n",
    "import keras\n",
    "from keras.preprocessing import image\n",
    "from keras.preprocessing.image import img_to_array\n",
    "from keras.applications.xception import (\n",
    "    Xception, preprocess_input, decode_predictions)\n",
    "from keras import backend as K"
   ]
  },
  {
   "cell_type": "code",
   "execution_count": 91,
   "metadata": {},
   "outputs": [],
   "source": [
    " model = keras.models.load_model(\"models/skin_model_1.h5\")"
   ]
  },
  {
   "cell_type": "code",
   "execution_count": 92,
   "metadata": {},
   "outputs": [],
   "source": [
    "model = keras.models.load_model(\"models/skin_model_1.h5\")"
   ]
  },
  {
   "cell_type": "code",
   "execution_count": 93,
   "metadata": {},
   "outputs": [],
   "source": [
    "def prepare_image(img):\n",
    "    img = img_to_array(img)\n",
    "    img = np.expand_dims(img, axis=0)\n",
    "    img = preprocess_input(img)\n",
    "    # return the processed image\n",
    "    return img"
   ]
  },
  {
   "cell_type": "code",
   "execution_count": 110,
   "metadata": {},
   "outputs": [],
   "source": [
    "filepath = os.path.join(\"uploads/Screen Shot 2019-03-19 at 9.55.03 PM.png\")\n",
    "\n",
    "\n",
    "image_size = (75, 100)\n",
    "im = keras.preprocessing.image.load_img(filepath,\n",
    "                                                    target_size=image_size,\n",
    "                                                    grayscale=False)\n",
    "\n",
    "# preprocess the image and prepare it for classification\n",
    "image = prepare_image(im)\n",
    "\n"
   ]
  },
  {
   "cell_type": "code",
   "execution_count": 111,
   "metadata": {},
   "outputs": [
    {
     "data": {
      "text/plain": [
       "[['Actinic keratoses', '99.999%)'],\n",
       " ['Benign keratosis-like lesions', '0.001%)']]"
      ]
     },
     "execution_count": 111,
     "metadata": {},
     "output_type": "execute_result"
    }
   ],
   "source": [
    "labels = ['Melanocytic nevi','Melanoma','Benign keratosis-like lesions', 'Basal cell carcinoma',\n",
    "    'Actinic keratoses','Vascular lesions','Dermatofibroma']\n",
    "\n",
    "labels = tuple(labels)\n",
    "\n",
    "preds = model.predict(image)\n",
    "\n",
    "# convert preds array to list\n",
    "preds = preds.tolist()\n",
    "\n",
    "#convert list of lists to one list for rounding to work\n",
    "flat_preds = [item for sublist in preds for item in sublist]\n",
    "\n",
    "updated_preds = list(map(lambda x : (round(x*100,3)), flat_preds))\n",
    "\n",
    "\n",
    "dictionary = dict(zip(labels, updated_preds))\n",
    "\n",
    "dictionary\n",
    " #Prints as:\n",
    "#{'Melanocytic nevi': 61.27,\n",
    "#'Melanoma': 74.22,\n",
    "# 'Benign keratosis-like lesions': 0.0,\n",
    "# 'Basal cell carcinoma': 0.0,\n",
    "# 'Actinic keratoses': 0.0,\n",
    "# 'Vascular lesions': 0.0,\n",
    "# 'Dermatofibroma': 0.0}\n",
    "\n",
    "# create a function which returns the value of a dictionary\n",
    "def keyfunction(k):\n",
    "    return dictionary[k]\n",
    "\n",
    "\n",
    "diagnosis = []\n",
    "\n",
    "\n",
    "# sort by dictionary by the values and print top 3 {key, value} pairs\n",
    "for key in sorted(dictionary, key=keyfunction, reverse=True)[:3]:\n",
    "    \n",
    "    if dictionary[key] > 0:\n",
    "       \n",
    "        diagnosis.append([key, str(dictionary[key]) + \"%)\"])\n",
    "    \n",
    "    \n",
    "diagnosis"
   ]
  },
  {
   "cell_type": "code",
   "execution_count": null,
   "metadata": {},
   "outputs": [],
   "source": [
    "diagnosis"
   ]
  },
  {
   "cell_type": "code",
   "execution_count": null,
   "metadata": {},
   "outputs": [],
   "source": []
  },
  {
   "cell_type": "code",
   "execution_count": null,
   "metadata": {},
   "outputs": [],
   "source": [
    "dictList = []\n",
    "\n",
    "for key, value in new_dict.items():\n",
    "    dictList.append([key, value])\n"
   ]
  },
  {
   "cell_type": "code",
   "execution_count": 53,
   "metadata": {},
   "outputs": [
    {
     "data": {
      "text/plain": [
       "[['Actinic keratoses', '67.315%'],\n",
       " ['Melanoma', '32.685%'],\n",
       " ['Melanocytic nevi', '0.0%']]"
      ]
     },
     "execution_count": 53,
     "metadata": {},
     "output_type": "execute_result"
    }
   ],
   "source": [
    "dictList"
   ]
  },
  {
   "cell_type": "code",
   "execution_count": null,
   "metadata": {},
   "outputs": [],
   "source": []
  }
 ],
 "metadata": {
  "kernelspec": {
   "display_name": "Python 3",
   "language": "python",
   "name": "python3"
  },
  "language_info": {
   "codemirror_mode": {
    "name": "ipython",
    "version": 3
   },
   "file_extension": ".py",
   "mimetype": "text/x-python",
   "name": "python",
   "nbconvert_exporter": "python",
   "pygments_lexer": "ipython3",
   "version": "3.7.0"
  }
 },
 "nbformat": 4,
 "nbformat_minor": 2
}
